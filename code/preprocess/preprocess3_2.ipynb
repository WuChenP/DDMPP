{
 "cells": [
  {
   "cell_type": "code",
   "id": "initial_id",
   "metadata": {
    "collapsed": true,
    "ExecuteTime": {
     "end_time": "2024-10-24T11:39:27.945113Z",
     "start_time": "2024-10-24T11:39:27.938771Z"
    }
   },
   "source": [
    "import pandas as pd\n",
    "import numpy as np\n",
    "from sklearn.model_selection import train_test_split, GridSearchCV\n",
    "from sklearn.feature_selection import RFE\n",
    "from sklearn.metrics import mean_squared_error, r2_score\n",
    "from sklearn.neural_network import MLPRegressor\n",
    "from sklearn.tree import DecisionTreeRegressor\n",
    "from sklearn.ensemble import RandomForestRegressor, GradientBoostingRegressor\n",
    "from sklearn.linear_model import LinearRegression\n",
    "from xgboost import XGBRegressor\n",
    "from sklearn.svm import SVR\n",
    "from sklearn.preprocessing import StandardScaler, MinMaxScaler\n",
    "from sklearn.pipeline import Pipeline\n",
    "import matplotlib.pyplot as plt\n",
    "import seaborn as sns\n",
    "import joblib"
   ],
   "outputs": [],
   "execution_count": 53
  },
  {
   "metadata": {
    "ExecuteTime": {
     "end_time": "2024-10-24T11:44:57.539081Z",
     "start_time": "2024-10-24T11:44:57.491399Z"
    }
   },
   "cell_type": "code",
   "source": [
    "# data = pd.read_excel('/private/wuchenpeng/projects/high-molecular/data/dup_log.xlsx')\n",
    "# data = pd.read_excel('/private/wuchenpeng/projects/high-molecular/data/dup_log_new_test.xlsx')\n",
    "data = pd.read_excel('/private/wuchenpeng/projects/high-molecular/Third/dup_log_PCA.xlsx')"
   ],
   "id": "a8dc2269502b834b",
   "outputs": [],
   "execution_count": 61
  },
  {
   "metadata": {
    "ExecuteTime": {
     "end_time": "2024-10-24T11:56:52.435278Z",
     "start_time": "2024-10-24T11:56:52.411344Z"
    }
   },
   "cell_type": "code",
   "source": "data",
   "id": "4d848e386d6af45a",
   "outputs": [
    {
     "data": {
      "text/plain": [
       "        redox       azo        fe       ybc    温度   浓度      AMPS       [n]  \\\n",
       "0    1.000000  1.000000  0.000000  1.000000  0.00  0.0  0.000000  0.000000   \n",
       "1    0.739655  0.739655  0.083333  0.739655  0.25  0.0  0.000000  0.000000   \n",
       "2    0.498925  0.498925  0.166667  0.498925  0.50  0.0  0.000000  0.329025   \n",
       "3    0.249900  0.249900  0.250000  0.249900  0.75  0.0  0.000000  0.406874   \n",
       "4    0.000000  0.000000  0.333333  0.000000  1.00  0.0  0.000000  0.070505   \n",
       "..        ...       ...       ...       ...   ...  ...       ...       ...   \n",
       "172  0.498925  0.349221  0.166667  1.000000  0.25  0.5  0.444444  0.565599   \n",
       "173  0.498925  0.380365  0.166667  1.000000  0.25  0.5  0.444444  0.558754   \n",
       "174  0.498925  0.349221  0.333333  1.000000  0.25  0.5  0.722222  0.500881   \n",
       "175  0.498925  0.349221  0.333333  1.000000  0.25  0.5  1.000000  0.407168   \n",
       "176  0.498925  0.349221  0.333333  1.000000  0.25  0.5  0.333333  0.635723   \n",
       "\n",
       "     转化率（%）  \n",
       "0     0.000  \n",
       "1     0.000  \n",
       "2     0.710  \n",
       "3     0.800  \n",
       "4     1.000  \n",
       "..      ...  \n",
       "172   0.968  \n",
       "173   0.963  \n",
       "174   0.982  \n",
       "175   0.999  \n",
       "176   0.942  \n",
       "\n",
       "[177 rows x 9 columns]"
      ],
      "text/html": [
       "<div>\n",
       "<style scoped>\n",
       "    .dataframe tbody tr th:only-of-type {\n",
       "        vertical-align: middle;\n",
       "    }\n",
       "\n",
       "    .dataframe tbody tr th {\n",
       "        vertical-align: top;\n",
       "    }\n",
       "\n",
       "    .dataframe thead th {\n",
       "        text-align: right;\n",
       "    }\n",
       "</style>\n",
       "<table border=\"1\" class=\"dataframe\">\n",
       "  <thead>\n",
       "    <tr style=\"text-align: right;\">\n",
       "      <th></th>\n",
       "      <th>redox</th>\n",
       "      <th>azo</th>\n",
       "      <th>fe</th>\n",
       "      <th>ybc</th>\n",
       "      <th>温度</th>\n",
       "      <th>浓度</th>\n",
       "      <th>AMPS</th>\n",
       "      <th>[n]</th>\n",
       "      <th>转化率（%）</th>\n",
       "    </tr>\n",
       "  </thead>\n",
       "  <tbody>\n",
       "    <tr>\n",
       "      <th>0</th>\n",
       "      <td>1.000000</td>\n",
       "      <td>1.000000</td>\n",
       "      <td>0.000000</td>\n",
       "      <td>1.000000</td>\n",
       "      <td>0.00</td>\n",
       "      <td>0.0</td>\n",
       "      <td>0.000000</td>\n",
       "      <td>0.000000</td>\n",
       "      <td>0.000</td>\n",
       "    </tr>\n",
       "    <tr>\n",
       "      <th>1</th>\n",
       "      <td>0.739655</td>\n",
       "      <td>0.739655</td>\n",
       "      <td>0.083333</td>\n",
       "      <td>0.739655</td>\n",
       "      <td>0.25</td>\n",
       "      <td>0.0</td>\n",
       "      <td>0.000000</td>\n",
       "      <td>0.000000</td>\n",
       "      <td>0.000</td>\n",
       "    </tr>\n",
       "    <tr>\n",
       "      <th>2</th>\n",
       "      <td>0.498925</td>\n",
       "      <td>0.498925</td>\n",
       "      <td>0.166667</td>\n",
       "      <td>0.498925</td>\n",
       "      <td>0.50</td>\n",
       "      <td>0.0</td>\n",
       "      <td>0.000000</td>\n",
       "      <td>0.329025</td>\n",
       "      <td>0.710</td>\n",
       "    </tr>\n",
       "    <tr>\n",
       "      <th>3</th>\n",
       "      <td>0.249900</td>\n",
       "      <td>0.249900</td>\n",
       "      <td>0.250000</td>\n",
       "      <td>0.249900</td>\n",
       "      <td>0.75</td>\n",
       "      <td>0.0</td>\n",
       "      <td>0.000000</td>\n",
       "      <td>0.406874</td>\n",
       "      <td>0.800</td>\n",
       "    </tr>\n",
       "    <tr>\n",
       "      <th>4</th>\n",
       "      <td>0.000000</td>\n",
       "      <td>0.000000</td>\n",
       "      <td>0.333333</td>\n",
       "      <td>0.000000</td>\n",
       "      <td>1.00</td>\n",
       "      <td>0.0</td>\n",
       "      <td>0.000000</td>\n",
       "      <td>0.070505</td>\n",
       "      <td>1.000</td>\n",
       "    </tr>\n",
       "    <tr>\n",
       "      <th>...</th>\n",
       "      <td>...</td>\n",
       "      <td>...</td>\n",
       "      <td>...</td>\n",
       "      <td>...</td>\n",
       "      <td>...</td>\n",
       "      <td>...</td>\n",
       "      <td>...</td>\n",
       "      <td>...</td>\n",
       "      <td>...</td>\n",
       "    </tr>\n",
       "    <tr>\n",
       "      <th>172</th>\n",
       "      <td>0.498925</td>\n",
       "      <td>0.349221</td>\n",
       "      <td>0.166667</td>\n",
       "      <td>1.000000</td>\n",
       "      <td>0.25</td>\n",
       "      <td>0.5</td>\n",
       "      <td>0.444444</td>\n",
       "      <td>0.565599</td>\n",
       "      <td>0.968</td>\n",
       "    </tr>\n",
       "    <tr>\n",
       "      <th>173</th>\n",
       "      <td>0.498925</td>\n",
       "      <td>0.380365</td>\n",
       "      <td>0.166667</td>\n",
       "      <td>1.000000</td>\n",
       "      <td>0.25</td>\n",
       "      <td>0.5</td>\n",
       "      <td>0.444444</td>\n",
       "      <td>0.558754</td>\n",
       "      <td>0.963</td>\n",
       "    </tr>\n",
       "    <tr>\n",
       "      <th>174</th>\n",
       "      <td>0.498925</td>\n",
       "      <td>0.349221</td>\n",
       "      <td>0.333333</td>\n",
       "      <td>1.000000</td>\n",
       "      <td>0.25</td>\n",
       "      <td>0.5</td>\n",
       "      <td>0.722222</td>\n",
       "      <td>0.500881</td>\n",
       "      <td>0.982</td>\n",
       "    </tr>\n",
       "    <tr>\n",
       "      <th>175</th>\n",
       "      <td>0.498925</td>\n",
       "      <td>0.349221</td>\n",
       "      <td>0.333333</td>\n",
       "      <td>1.000000</td>\n",
       "      <td>0.25</td>\n",
       "      <td>0.5</td>\n",
       "      <td>1.000000</td>\n",
       "      <td>0.407168</td>\n",
       "      <td>0.999</td>\n",
       "    </tr>\n",
       "    <tr>\n",
       "      <th>176</th>\n",
       "      <td>0.498925</td>\n",
       "      <td>0.349221</td>\n",
       "      <td>0.333333</td>\n",
       "      <td>1.000000</td>\n",
       "      <td>0.25</td>\n",
       "      <td>0.5</td>\n",
       "      <td>0.333333</td>\n",
       "      <td>0.635723</td>\n",
       "      <td>0.942</td>\n",
       "    </tr>\n",
       "  </tbody>\n",
       "</table>\n",
       "<p>177 rows × 9 columns</p>\n",
       "</div>"
      ]
     },
     "execution_count": 70,
     "metadata": {},
     "output_type": "execute_result"
    }
   ],
   "execution_count": 70
  },
  {
   "metadata": {},
   "cell_type": "markdown",
   "source": "0-1归一化",
   "id": "3b18ebe4f8fc73de"
  },
  {
   "metadata": {
    "ExecuteTime": {
     "end_time": "2024-10-24T11:39:28.163719Z",
     "start_time": "2024-10-24T11:39:28.117336Z"
    }
   },
   "cell_type": "code",
   "source": "# data.columns",
   "id": "2e0059729e0cb8d5",
   "outputs": [],
   "execution_count": 56
  },
  {
   "metadata": {
    "ExecuteTime": {
     "end_time": "2024-10-24T11:45:20.319686Z",
     "start_time": "2024-10-24T11:45:20.314238Z"
    }
   },
   "cell_type": "code",
   "source": [
    "columns_to_normalize = ['redox', 'azo', 'fe', 'ybc', '温度', '浓度', 'AMPS',\n",
    "       'combined_feature', 'combined_feature1', 'combined_feature2', '[n]', '转化率（%）']\n",
    "# columns_to_normalize = ['redox', 'azo', 'fe', 'ybc', '温度', '浓度', 'AMPS', '[n]', '转化率（%）']\n",
    "data_to_normalize = data[columns_to_normalize]"
   ],
   "id": "3dfc089a9497e423",
   "outputs": [],
   "execution_count": 63
  },
  {
   "metadata": {
    "ExecuteTime": {
     "end_time": "2024-10-24T11:45:20.751515Z",
     "start_time": "2024-10-24T11:45:20.743549Z"
    }
   },
   "cell_type": "code",
   "source": [
    "scaler = MinMaxScaler()\n",
    "normalized_data = scaler.fit_transform(data_to_normalize)"
   ],
   "id": "f0d6804ec351cdd5",
   "outputs": [],
   "execution_count": 64
  },
  {
   "metadata": {
    "ExecuteTime": {
     "end_time": "2024-10-24T11:45:21.207736Z",
     "start_time": "2024-10-24T11:45:21.199933Z"
    }
   },
   "cell_type": "code",
   "source": "data[columns_to_normalize] = pd.DataFrame(normalized_data, columns=columns_to_normalize)",
   "id": "a9319860182de114",
   "outputs": [],
   "execution_count": 65
  },
  {
   "metadata": {
    "ExecuteTime": {
     "end_time": "2024-10-24T11:45:21.709362Z",
     "start_time": "2024-10-24T11:45:21.688270Z"
    }
   },
   "cell_type": "code",
   "source": "data",
   "id": "423b9d15c0d94d3e",
   "outputs": [
    {
     "data": {
      "text/plain": [
       "        redox       azo        fe       ybc    温度   浓度      AMPS       [n]  \\\n",
       "0    1.000000  1.000000  0.000000  1.000000  0.00  0.0  0.000000  0.000000   \n",
       "1    0.739655  0.739655  0.083333  0.739655  0.25  0.0  0.000000  0.000000   \n",
       "2    0.498925  0.498925  0.166667  0.498925  0.50  0.0  0.000000  0.329025   \n",
       "3    0.249900  0.249900  0.250000  0.249900  0.75  0.0  0.000000  0.406874   \n",
       "4    0.000000  0.000000  0.333333  0.000000  1.00  0.0  0.000000  0.070505   \n",
       "..        ...       ...       ...       ...   ...  ...       ...       ...   \n",
       "172  0.498925  0.349221  0.166667  1.000000  0.25  0.5  0.444444  0.565599   \n",
       "173  0.498925  0.380365  0.166667  1.000000  0.25  0.5  0.444444  0.558754   \n",
       "174  0.498925  0.349221  0.333333  1.000000  0.25  0.5  0.722222  0.500881   \n",
       "175  0.498925  0.349221  0.333333  1.000000  0.25  0.5  1.000000  0.407168   \n",
       "176  0.498925  0.349221  0.333333  1.000000  0.25  0.5  0.333333  0.635723   \n",
       "\n",
       "     转化率（%）  \n",
       "0     0.000  \n",
       "1     0.000  \n",
       "2     0.710  \n",
       "3     0.800  \n",
       "4     1.000  \n",
       "..      ...  \n",
       "172   0.968  \n",
       "173   0.963  \n",
       "174   0.982  \n",
       "175   0.999  \n",
       "176   0.942  \n",
       "\n",
       "[177 rows x 9 columns]"
      ],
      "text/html": [
       "<div>\n",
       "<style scoped>\n",
       "    .dataframe tbody tr th:only-of-type {\n",
       "        vertical-align: middle;\n",
       "    }\n",
       "\n",
       "    .dataframe tbody tr th {\n",
       "        vertical-align: top;\n",
       "    }\n",
       "\n",
       "    .dataframe thead th {\n",
       "        text-align: right;\n",
       "    }\n",
       "</style>\n",
       "<table border=\"1\" class=\"dataframe\">\n",
       "  <thead>\n",
       "    <tr style=\"text-align: right;\">\n",
       "      <th></th>\n",
       "      <th>redox</th>\n",
       "      <th>azo</th>\n",
       "      <th>fe</th>\n",
       "      <th>ybc</th>\n",
       "      <th>温度</th>\n",
       "      <th>浓度</th>\n",
       "      <th>AMPS</th>\n",
       "      <th>[n]</th>\n",
       "      <th>转化率（%）</th>\n",
       "    </tr>\n",
       "  </thead>\n",
       "  <tbody>\n",
       "    <tr>\n",
       "      <th>0</th>\n",
       "      <td>1.000000</td>\n",
       "      <td>1.000000</td>\n",
       "      <td>0.000000</td>\n",
       "      <td>1.000000</td>\n",
       "      <td>0.00</td>\n",
       "      <td>0.0</td>\n",
       "      <td>0.000000</td>\n",
       "      <td>0.000000</td>\n",
       "      <td>0.000</td>\n",
       "    </tr>\n",
       "    <tr>\n",
       "      <th>1</th>\n",
       "      <td>0.739655</td>\n",
       "      <td>0.739655</td>\n",
       "      <td>0.083333</td>\n",
       "      <td>0.739655</td>\n",
       "      <td>0.25</td>\n",
       "      <td>0.0</td>\n",
       "      <td>0.000000</td>\n",
       "      <td>0.000000</td>\n",
       "      <td>0.000</td>\n",
       "    </tr>\n",
       "    <tr>\n",
       "      <th>2</th>\n",
       "      <td>0.498925</td>\n",
       "      <td>0.498925</td>\n",
       "      <td>0.166667</td>\n",
       "      <td>0.498925</td>\n",
       "      <td>0.50</td>\n",
       "      <td>0.0</td>\n",
       "      <td>0.000000</td>\n",
       "      <td>0.329025</td>\n",
       "      <td>0.710</td>\n",
       "    </tr>\n",
       "    <tr>\n",
       "      <th>3</th>\n",
       "      <td>0.249900</td>\n",
       "      <td>0.249900</td>\n",
       "      <td>0.250000</td>\n",
       "      <td>0.249900</td>\n",
       "      <td>0.75</td>\n",
       "      <td>0.0</td>\n",
       "      <td>0.000000</td>\n",
       "      <td>0.406874</td>\n",
       "      <td>0.800</td>\n",
       "    </tr>\n",
       "    <tr>\n",
       "      <th>4</th>\n",
       "      <td>0.000000</td>\n",
       "      <td>0.000000</td>\n",
       "      <td>0.333333</td>\n",
       "      <td>0.000000</td>\n",
       "      <td>1.00</td>\n",
       "      <td>0.0</td>\n",
       "      <td>0.000000</td>\n",
       "      <td>0.070505</td>\n",
       "      <td>1.000</td>\n",
       "    </tr>\n",
       "    <tr>\n",
       "      <th>...</th>\n",
       "      <td>...</td>\n",
       "      <td>...</td>\n",
       "      <td>...</td>\n",
       "      <td>...</td>\n",
       "      <td>...</td>\n",
       "      <td>...</td>\n",
       "      <td>...</td>\n",
       "      <td>...</td>\n",
       "      <td>...</td>\n",
       "    </tr>\n",
       "    <tr>\n",
       "      <th>172</th>\n",
       "      <td>0.498925</td>\n",
       "      <td>0.349221</td>\n",
       "      <td>0.166667</td>\n",
       "      <td>1.000000</td>\n",
       "      <td>0.25</td>\n",
       "      <td>0.5</td>\n",
       "      <td>0.444444</td>\n",
       "      <td>0.565599</td>\n",
       "      <td>0.968</td>\n",
       "    </tr>\n",
       "    <tr>\n",
       "      <th>173</th>\n",
       "      <td>0.498925</td>\n",
       "      <td>0.380365</td>\n",
       "      <td>0.166667</td>\n",
       "      <td>1.000000</td>\n",
       "      <td>0.25</td>\n",
       "      <td>0.5</td>\n",
       "      <td>0.444444</td>\n",
       "      <td>0.558754</td>\n",
       "      <td>0.963</td>\n",
       "    </tr>\n",
       "    <tr>\n",
       "      <th>174</th>\n",
       "      <td>0.498925</td>\n",
       "      <td>0.349221</td>\n",
       "      <td>0.333333</td>\n",
       "      <td>1.000000</td>\n",
       "      <td>0.25</td>\n",
       "      <td>0.5</td>\n",
       "      <td>0.722222</td>\n",
       "      <td>0.500881</td>\n",
       "      <td>0.982</td>\n",
       "    </tr>\n",
       "    <tr>\n",
       "      <th>175</th>\n",
       "      <td>0.498925</td>\n",
       "      <td>0.349221</td>\n",
       "      <td>0.333333</td>\n",
       "      <td>1.000000</td>\n",
       "      <td>0.25</td>\n",
       "      <td>0.5</td>\n",
       "      <td>1.000000</td>\n",
       "      <td>0.407168</td>\n",
       "      <td>0.999</td>\n",
       "    </tr>\n",
       "    <tr>\n",
       "      <th>176</th>\n",
       "      <td>0.498925</td>\n",
       "      <td>0.349221</td>\n",
       "      <td>0.333333</td>\n",
       "      <td>1.000000</td>\n",
       "      <td>0.25</td>\n",
       "      <td>0.5</td>\n",
       "      <td>0.333333</td>\n",
       "      <td>0.635723</td>\n",
       "      <td>0.942</td>\n",
       "    </tr>\n",
       "  </tbody>\n",
       "</table>\n",
       "<p>177 rows × 9 columns</p>\n",
       "</div>"
      ]
     },
     "execution_count": 66,
     "metadata": {},
     "output_type": "execute_result"
    }
   ],
   "execution_count": 66
  },
  {
   "metadata": {
    "ExecuteTime": {
     "end_time": "2024-10-24T11:12:19.890136Z",
     "start_time": "2024-10-24T11:12:19.843895Z"
    }
   },
   "cell_type": "code",
   "source": [
    "# data.to_excel('dup_log_PCA_01norm.xlsx', index=False)\n",
    "# data.to_excel('/private/wuchenpeng/projects/high-molecular/data/dup_log_01norm_new_test.xlsx', index=False)"
   ],
   "id": "ef109672e7e20d6b",
   "outputs": [],
   "execution_count": 34
  },
  {
   "metadata": {
    "ExecuteTime": {
     "end_time": "2024-10-24T11:12:19.952743Z",
     "start_time": "2024-10-24T11:12:19.893307Z"
    }
   },
   "cell_type": "code",
   "source": [
    "# columns_to_print = ['redox', 'azo', 'fe', 'ybc', '温度', '浓度', 'AMPS', '[n]', '转化率（%）', 'combined_feature', 'combined_feature1', 'combined_feature2']\n",
    "# corr_matrix = data[columns_to_print].corr()\n",
    "# \n",
    "# plt.figure(figsize=(10, 8))\n",
    "# sns.heatmap(corr_matrix, annot=True, cmap='coolwarm', linewidths=0.5)\n",
    "# plt.title(\"Heatmap of Correlation between Nine Columns\")\n",
    "# plt.show()"
   ],
   "id": "643143e90132cb47",
   "outputs": [],
   "execution_count": 35
  },
  {
   "metadata": {},
   "cell_type": "markdown",
   "source": "分割训练集和测试集",
   "id": "3e2ee33caef26299"
  },
  {
   "metadata": {
    "ExecuteTime": {
     "end_time": "2024-10-24T11:45:25.379730Z",
     "start_time": "2024-10-24T11:45:25.374226Z"
    }
   },
   "cell_type": "code",
   "source": "train_data, test_data = train_test_split(data, train_size=150)",
   "id": "2e95d91b6c5d0f69",
   "outputs": [],
   "execution_count": 67
  },
  {
   "metadata": {
    "ExecuteTime": {
     "end_time": "2024-10-24T11:12:20.076659Z",
     "start_time": "2024-10-24T11:12:20.018779Z"
    }
   },
   "cell_type": "code",
   "source": [
    "# train_data = data.iloc[:150]\n",
    "# test_data = data.iloc[150:]"
   ],
   "id": "23922890b5537383",
   "outputs": [],
   "execution_count": 37
  },
  {
   "metadata": {
    "ExecuteTime": {
     "end_time": "2024-10-24T11:12:20.138551Z",
     "start_time": "2024-10-24T11:12:20.078717Z"
    }
   },
   "cell_type": "code",
   "source": "# train_data",
   "id": "11951f4313a2f6d",
   "outputs": [],
   "execution_count": 38
  },
  {
   "metadata": {
    "ExecuteTime": {
     "end_time": "2024-10-24T11:12:20.200670Z",
     "start_time": "2024-10-24T11:12:20.140091Z"
    }
   },
   "cell_type": "code",
   "source": "# train_data.to_excel('train_data.xlsx',index=False)",
   "id": "2c5dbc3f44a58d7d",
   "outputs": [],
   "execution_count": 39
  },
  {
   "metadata": {
    "ExecuteTime": {
     "end_time": "2024-10-24T11:12:20.262322Z",
     "start_time": "2024-10-24T11:12:20.202240Z"
    }
   },
   "cell_type": "code",
   "source": "# test_data.to_excel('test_data.xlsx',index=False)",
   "id": "28dfb016e2088dd1",
   "outputs": [],
   "execution_count": 40
  },
  {
   "metadata": {
    "ExecuteTime": {
     "end_time": "2024-10-24T11:12:20.325175Z",
     "start_time": "2024-10-24T11:12:20.263880Z"
    }
   },
   "cell_type": "code",
   "source": [
    "# train_data = pd.read_excel('/private/wuchenpeng/projects/high-molecular/Third/train_data_2.xlsx')\n",
    "# test_data1 = pd.read_excel('/private/wuchenpeng/projects/high-molecular/data/new_data_01norm.xlsx')"
   ],
   "id": "63ac1afc9cbae89f",
   "outputs": [],
   "execution_count": 41
  },
  {
   "metadata": {
    "ExecuteTime": {
     "end_time": "2024-10-24T11:45:27.581884Z",
     "start_time": "2024-10-24T11:45:27.576500Z"
    }
   },
   "cell_type": "code",
   "source": [
    "# 特征和标签\n",
    "X_train = train_data.iloc[:, :-2]\n",
    "y_train = train_data.iloc[:, -2]\n",
    "X_test = test_data.iloc[:, :-2]\n",
    "y_test = test_data.iloc[:, -2]"
   ],
   "id": "4391a17a5917a4bc",
   "outputs": [],
   "execution_count": 68
  },
  {
   "metadata": {
    "ExecuteTime": {
     "end_time": "2024-10-24T11:45:29.812442Z",
     "start_time": "2024-10-24T11:45:29.791088Z"
    }
   },
   "cell_type": "code",
   "source": "X_test",
   "id": "9c735dc4934db8ff",
   "outputs": [
    {
     "data": {
      "text/plain": [
       "        redox       azo        fe       ybc    温度    浓度      AMPS\n",
       "31   0.739655  0.000000  0.000000  0.498925  0.75  0.25  0.111111\n",
       "19   0.000000  0.249900  0.083333  0.498925  0.00  0.75  0.000000\n",
       "101  0.739655  0.739655  0.083333  0.739655  0.25  0.00  0.444444\n",
       "165  0.305289  0.400088  0.333333  0.349221  0.25  0.50  0.444444\n",
       "107  0.498925  1.000000  0.083333  0.249900  1.00  0.25  0.444444\n",
       "41   0.739655  1.000000  0.250000  0.000000  0.50  0.75  0.111111\n",
       "173  0.498925  0.380365  0.166667  1.000000  0.25  0.50  0.444444\n",
       "2    0.498925  0.498925  0.166667  0.498925  0.50  0.00  0.000000\n",
       "74   0.000000  0.739655  0.000000  0.249900  0.50  1.00  0.222222\n",
       "5    1.000000  0.249900  0.333333  0.739655  0.50  0.25  0.000000\n",
       "95   1.000000  0.498925  0.083333  0.000000  0.75  1.00  0.333333\n",
       "130  0.498925  0.000000  0.000000  0.498925  0.75  0.25  0.000000\n",
       "126  0.498925  0.739655  0.083333  0.739655  0.25  0.00  0.000000\n",
       "149  0.305289  0.400088  0.166667  1.000000  0.25  0.50  0.444444\n",
       "148  0.305289  0.400088  0.166667  0.174697  0.25  0.50  0.333333\n",
       "7    0.498925  1.000000  0.083333  0.249900  1.00  0.25  0.000000\n",
       "11   0.739655  0.498925  0.333333  0.249900  0.00  0.50  0.000000\n",
       "34   0.000000  0.498925  0.250000  1.000000  0.25  0.25  0.111111\n",
       "97   0.498925  0.000000  0.250000  0.739655  0.00  1.00  0.333333\n",
       "39   0.000000  1.000000  0.166667  0.739655  0.75  0.50  0.111111\n",
       "88   0.249900  0.000000  0.083333  1.000000  0.50  0.50  0.333333\n",
       "29   0.000000  0.000000  0.333333  0.000000  1.00  0.00  0.111111\n",
       "12   0.498925  0.249900  0.000000  0.000000  0.25  0.50  0.000000\n",
       "17   0.498925  0.739655  0.333333  1.000000  0.75  0.75  0.000000\n",
       "60   1.000000  0.739655  0.250000  0.498925  1.00  0.50  0.222222\n",
       "46   0.739655  0.249900  0.166667  1.000000  1.00  1.00  0.111111\n",
       "35   1.000000  0.739655  0.250000  0.498925  1.00  0.50  0.111111"
      ],
      "text/html": [
       "<div>\n",
       "<style scoped>\n",
       "    .dataframe tbody tr th:only-of-type {\n",
       "        vertical-align: middle;\n",
       "    }\n",
       "\n",
       "    .dataframe tbody tr th {\n",
       "        vertical-align: top;\n",
       "    }\n",
       "\n",
       "    .dataframe thead th {\n",
       "        text-align: right;\n",
       "    }\n",
       "</style>\n",
       "<table border=\"1\" class=\"dataframe\">\n",
       "  <thead>\n",
       "    <tr style=\"text-align: right;\">\n",
       "      <th></th>\n",
       "      <th>redox</th>\n",
       "      <th>azo</th>\n",
       "      <th>fe</th>\n",
       "      <th>ybc</th>\n",
       "      <th>温度</th>\n",
       "      <th>浓度</th>\n",
       "      <th>AMPS</th>\n",
       "    </tr>\n",
       "  </thead>\n",
       "  <tbody>\n",
       "    <tr>\n",
       "      <th>31</th>\n",
       "      <td>0.739655</td>\n",
       "      <td>0.000000</td>\n",
       "      <td>0.000000</td>\n",
       "      <td>0.498925</td>\n",
       "      <td>0.75</td>\n",
       "      <td>0.25</td>\n",
       "      <td>0.111111</td>\n",
       "    </tr>\n",
       "    <tr>\n",
       "      <th>19</th>\n",
       "      <td>0.000000</td>\n",
       "      <td>0.249900</td>\n",
       "      <td>0.083333</td>\n",
       "      <td>0.498925</td>\n",
       "      <td>0.00</td>\n",
       "      <td>0.75</td>\n",
       "      <td>0.000000</td>\n",
       "    </tr>\n",
       "    <tr>\n",
       "      <th>101</th>\n",
       "      <td>0.739655</td>\n",
       "      <td>0.739655</td>\n",
       "      <td>0.083333</td>\n",
       "      <td>0.739655</td>\n",
       "      <td>0.25</td>\n",
       "      <td>0.00</td>\n",
       "      <td>0.444444</td>\n",
       "    </tr>\n",
       "    <tr>\n",
       "      <th>165</th>\n",
       "      <td>0.305289</td>\n",
       "      <td>0.400088</td>\n",
       "      <td>0.333333</td>\n",
       "      <td>0.349221</td>\n",
       "      <td>0.25</td>\n",
       "      <td>0.50</td>\n",
       "      <td>0.444444</td>\n",
       "    </tr>\n",
       "    <tr>\n",
       "      <th>107</th>\n",
       "      <td>0.498925</td>\n",
       "      <td>1.000000</td>\n",
       "      <td>0.083333</td>\n",
       "      <td>0.249900</td>\n",
       "      <td>1.00</td>\n",
       "      <td>0.25</td>\n",
       "      <td>0.444444</td>\n",
       "    </tr>\n",
       "    <tr>\n",
       "      <th>41</th>\n",
       "      <td>0.739655</td>\n",
       "      <td>1.000000</td>\n",
       "      <td>0.250000</td>\n",
       "      <td>0.000000</td>\n",
       "      <td>0.50</td>\n",
       "      <td>0.75</td>\n",
       "      <td>0.111111</td>\n",
       "    </tr>\n",
       "    <tr>\n",
       "      <th>173</th>\n",
       "      <td>0.498925</td>\n",
       "      <td>0.380365</td>\n",
       "      <td>0.166667</td>\n",
       "      <td>1.000000</td>\n",
       "      <td>0.25</td>\n",
       "      <td>0.50</td>\n",
       "      <td>0.444444</td>\n",
       "    </tr>\n",
       "    <tr>\n",
       "      <th>2</th>\n",
       "      <td>0.498925</td>\n",
       "      <td>0.498925</td>\n",
       "      <td>0.166667</td>\n",
       "      <td>0.498925</td>\n",
       "      <td>0.50</td>\n",
       "      <td>0.00</td>\n",
       "      <td>0.000000</td>\n",
       "    </tr>\n",
       "    <tr>\n",
       "      <th>74</th>\n",
       "      <td>0.000000</td>\n",
       "      <td>0.739655</td>\n",
       "      <td>0.000000</td>\n",
       "      <td>0.249900</td>\n",
       "      <td>0.50</td>\n",
       "      <td>1.00</td>\n",
       "      <td>0.222222</td>\n",
       "    </tr>\n",
       "    <tr>\n",
       "      <th>5</th>\n",
       "      <td>1.000000</td>\n",
       "      <td>0.249900</td>\n",
       "      <td>0.333333</td>\n",
       "      <td>0.739655</td>\n",
       "      <td>0.50</td>\n",
       "      <td>0.25</td>\n",
       "      <td>0.000000</td>\n",
       "    </tr>\n",
       "    <tr>\n",
       "      <th>95</th>\n",
       "      <td>1.000000</td>\n",
       "      <td>0.498925</td>\n",
       "      <td>0.083333</td>\n",
       "      <td>0.000000</td>\n",
       "      <td>0.75</td>\n",
       "      <td>1.00</td>\n",
       "      <td>0.333333</td>\n",
       "    </tr>\n",
       "    <tr>\n",
       "      <th>130</th>\n",
       "      <td>0.498925</td>\n",
       "      <td>0.000000</td>\n",
       "      <td>0.000000</td>\n",
       "      <td>0.498925</td>\n",
       "      <td>0.75</td>\n",
       "      <td>0.25</td>\n",
       "      <td>0.000000</td>\n",
       "    </tr>\n",
       "    <tr>\n",
       "      <th>126</th>\n",
       "      <td>0.498925</td>\n",
       "      <td>0.739655</td>\n",
       "      <td>0.083333</td>\n",
       "      <td>0.739655</td>\n",
       "      <td>0.25</td>\n",
       "      <td>0.00</td>\n",
       "      <td>0.000000</td>\n",
       "    </tr>\n",
       "    <tr>\n",
       "      <th>149</th>\n",
       "      <td>0.305289</td>\n",
       "      <td>0.400088</td>\n",
       "      <td>0.166667</td>\n",
       "      <td>1.000000</td>\n",
       "      <td>0.25</td>\n",
       "      <td>0.50</td>\n",
       "      <td>0.444444</td>\n",
       "    </tr>\n",
       "    <tr>\n",
       "      <th>148</th>\n",
       "      <td>0.305289</td>\n",
       "      <td>0.400088</td>\n",
       "      <td>0.166667</td>\n",
       "      <td>0.174697</td>\n",
       "      <td>0.25</td>\n",
       "      <td>0.50</td>\n",
       "      <td>0.333333</td>\n",
       "    </tr>\n",
       "    <tr>\n",
       "      <th>7</th>\n",
       "      <td>0.498925</td>\n",
       "      <td>1.000000</td>\n",
       "      <td>0.083333</td>\n",
       "      <td>0.249900</td>\n",
       "      <td>1.00</td>\n",
       "      <td>0.25</td>\n",
       "      <td>0.000000</td>\n",
       "    </tr>\n",
       "    <tr>\n",
       "      <th>11</th>\n",
       "      <td>0.739655</td>\n",
       "      <td>0.498925</td>\n",
       "      <td>0.333333</td>\n",
       "      <td>0.249900</td>\n",
       "      <td>0.00</td>\n",
       "      <td>0.50</td>\n",
       "      <td>0.000000</td>\n",
       "    </tr>\n",
       "    <tr>\n",
       "      <th>34</th>\n",
       "      <td>0.000000</td>\n",
       "      <td>0.498925</td>\n",
       "      <td>0.250000</td>\n",
       "      <td>1.000000</td>\n",
       "      <td>0.25</td>\n",
       "      <td>0.25</td>\n",
       "      <td>0.111111</td>\n",
       "    </tr>\n",
       "    <tr>\n",
       "      <th>97</th>\n",
       "      <td>0.498925</td>\n",
       "      <td>0.000000</td>\n",
       "      <td>0.250000</td>\n",
       "      <td>0.739655</td>\n",
       "      <td>0.00</td>\n",
       "      <td>1.00</td>\n",
       "      <td>0.333333</td>\n",
       "    </tr>\n",
       "    <tr>\n",
       "      <th>39</th>\n",
       "      <td>0.000000</td>\n",
       "      <td>1.000000</td>\n",
       "      <td>0.166667</td>\n",
       "      <td>0.739655</td>\n",
       "      <td>0.75</td>\n",
       "      <td>0.50</td>\n",
       "      <td>0.111111</td>\n",
       "    </tr>\n",
       "    <tr>\n",
       "      <th>88</th>\n",
       "      <td>0.249900</td>\n",
       "      <td>0.000000</td>\n",
       "      <td>0.083333</td>\n",
       "      <td>1.000000</td>\n",
       "      <td>0.50</td>\n",
       "      <td>0.50</td>\n",
       "      <td>0.333333</td>\n",
       "    </tr>\n",
       "    <tr>\n",
       "      <th>29</th>\n",
       "      <td>0.000000</td>\n",
       "      <td>0.000000</td>\n",
       "      <td>0.333333</td>\n",
       "      <td>0.000000</td>\n",
       "      <td>1.00</td>\n",
       "      <td>0.00</td>\n",
       "      <td>0.111111</td>\n",
       "    </tr>\n",
       "    <tr>\n",
       "      <th>12</th>\n",
       "      <td>0.498925</td>\n",
       "      <td>0.249900</td>\n",
       "      <td>0.000000</td>\n",
       "      <td>0.000000</td>\n",
       "      <td>0.25</td>\n",
       "      <td>0.50</td>\n",
       "      <td>0.000000</td>\n",
       "    </tr>\n",
       "    <tr>\n",
       "      <th>17</th>\n",
       "      <td>0.498925</td>\n",
       "      <td>0.739655</td>\n",
       "      <td>0.333333</td>\n",
       "      <td>1.000000</td>\n",
       "      <td>0.75</td>\n",
       "      <td>0.75</td>\n",
       "      <td>0.000000</td>\n",
       "    </tr>\n",
       "    <tr>\n",
       "      <th>60</th>\n",
       "      <td>1.000000</td>\n",
       "      <td>0.739655</td>\n",
       "      <td>0.250000</td>\n",
       "      <td>0.498925</td>\n",
       "      <td>1.00</td>\n",
       "      <td>0.50</td>\n",
       "      <td>0.222222</td>\n",
       "    </tr>\n",
       "    <tr>\n",
       "      <th>46</th>\n",
       "      <td>0.739655</td>\n",
       "      <td>0.249900</td>\n",
       "      <td>0.166667</td>\n",
       "      <td>1.000000</td>\n",
       "      <td>1.00</td>\n",
       "      <td>1.00</td>\n",
       "      <td>0.111111</td>\n",
       "    </tr>\n",
       "    <tr>\n",
       "      <th>35</th>\n",
       "      <td>1.000000</td>\n",
       "      <td>0.739655</td>\n",
       "      <td>0.250000</td>\n",
       "      <td>0.498925</td>\n",
       "      <td>1.00</td>\n",
       "      <td>0.50</td>\n",
       "      <td>0.111111</td>\n",
       "    </tr>\n",
       "  </tbody>\n",
       "</table>\n",
       "</div>"
      ]
     },
     "execution_count": 69,
     "metadata": {},
     "output_type": "execute_result"
    }
   ],
   "execution_count": 69
  },
  {
   "metadata": {
    "ExecuteTime": {
     "end_time": "2024-10-24T11:12:20.593466Z",
     "start_time": "2024-10-24T11:12:20.495712Z"
    }
   },
   "cell_type": "code",
   "source": "y_train,y_test",
   "id": "e2a1275ad892ab83",
   "outputs": [
    {
     "data": {
      "text/plain": [
       "(6      0.126322\n",
       " 54     0.073737\n",
       " 174    0.500881\n",
       " 122    0.523208\n",
       " 138    0.170388\n",
       "          ...   \n",
       " 162    0.470035\n",
       " 56     0.646005\n",
       " 175    0.407168\n",
       " 47     0.765570\n",
       " 75     0.000000\n",
       " Name: [n], Length: 150, dtype: float64,\n",
       " 65     0.477673\n",
       " 161    0.614865\n",
       " 49     0.088132\n",
       " 147    0.515570\n",
       " 35     0.000000\n",
       " 168    0.532902\n",
       " 52     0.440658\n",
       " 172    0.565599\n",
       " 72     0.706522\n",
       " 134    0.440658\n",
       " 146    0.515276\n",
       " 99     0.072562\n",
       " 53     0.352526\n",
       " 32     0.499412\n",
       " 26     0.000000\n",
       " 125    0.000000\n",
       " 10     0.000000\n",
       " 45     0.119859\n",
       " 27     0.783196\n",
       " 48     0.468566\n",
       " 87     0.000000\n",
       " 62     0.000000\n",
       " 57     0.519683\n",
       " 121    0.293772\n",
       " 120    0.067568\n",
       " 36     0.292597\n",
       " 95     0.142479\n",
       " Name: [n], dtype: float64)"
      ]
     },
     "execution_count": 44,
     "metadata": {},
     "output_type": "execute_result"
    }
   ],
   "execution_count": 44
  },
  {
   "metadata": {
    "ExecuteTime": {
     "end_time": "2024-10-24T11:12:20.666673Z",
     "start_time": "2024-10-24T11:12:20.594998Z"
    }
   },
   "cell_type": "code",
   "source": [
    "# 特征缩放\n",
    "scaler2 = StandardScaler()\n",
    "X_train_scaled = scaler2.fit_transform(X_train)\n",
    "X_test_scaled = scaler2.transform(X_test)"
   ],
   "id": "4fdd4345a5a14519",
   "outputs": [],
   "execution_count": 45
  },
  {
   "metadata": {
    "ExecuteTime": {
     "end_time": "2024-10-24T11:12:20.741303Z",
     "start_time": "2024-10-24T11:12:20.668232Z"
    }
   },
   "cell_type": "code",
   "source": [
    "# 使用递归特征消除 (RFE) 进行特征选择\n",
    "estimator = DecisionTreeRegressor()\n",
    "selector = RFE(estimator, n_features_to_select=10, step=1)\n",
    "X_train_selected = selector.fit_transform(X_train_scaled, y_train)\n",
    "X_test_selected = selector.transform(X_test_scaled)"
   ],
   "id": "7ead3f47e4156c18",
   "outputs": [],
   "execution_count": 46
  },
  {
   "metadata": {
    "ExecuteTime": {
     "end_time": "2024-10-24T11:12:20.827972Z",
     "start_time": "2024-10-24T11:12:20.745323Z"
    }
   },
   "cell_type": "code",
   "source": [
    "# 打印所选特征\n",
    "selected_features = pd.Series(selector.support_, index=X_train.columns)\n",
    "selected_feature_names = selected_features[selected_features].index.tolist()\n",
    "print('Selected features:', selected_feature_names)"
   ],
   "id": "fcb854de46d1b62c",
   "outputs": [
    {
     "name": "stdout",
     "output_type": "stream",
     "text": [
      "Selected features: ['redox', 'azo', 'fe', 'ybc', 'combined_feature', 'combined_feature1', 'combined_feature2']\n"
     ]
    }
   ],
   "execution_count": 47
  },
  {
   "metadata": {
    "ExecuteTime": {
     "end_time": "2024-10-24T11:12:33.690162Z",
     "start_time": "2024-10-24T11:12:33.482723Z"
    }
   },
   "cell_type": "code",
   "source": [
    "# 使用随机森林回归器\n",
    "rf_reg = RandomForestRegressor(n_estimators=90)\n",
    "rf_reg.fit(X_train_selected, y_train)\n",
    "y_pred = rf_reg.predict(X_test_selected)\n",
    "mse = mean_squared_error(y_test, y_pred)\n",
    "r2 = r2_score(y_test, y_pred)\n",
    "print('Model performance (MSE, R2):', mse, r2)"
   ],
   "id": "524677c854296016",
   "outputs": [
    {
     "name": "stdout",
     "output_type": "stream",
     "text": [
      "Model performance (MSE, R2): 0.008040909455478652 0.868228690425227\n"
     ]
    }
   ],
   "execution_count": 52
  },
  {
   "metadata": {
    "ExecuteTime": {
     "end_time": "2024-10-24T11:12:21.107976Z",
     "start_time": "2024-10-24T11:12:21.103510Z"
    }
   },
   "cell_type": "code",
   "source": [
    "# 不同算法对应的模型性能\n",
    "models = {\n",
    "    'Random Forest': RandomForestRegressor(n_estimators=50),\n",
    "    'Linear Regression': LinearRegression(),\n",
    "    'SVR': SVR(),\n",
    "    'Decision Tree': DecisionTreeRegressor(),\n",
    "    'GBT': GradientBoostingRegressor(n_estimators=100),\n",
    "    # 'XGBR':XGBRegressor(n_estimators=100, learning_rate=0.1),\n",
    "    # 'MLP':MLPRegressor(hidden_layer_sizes=(100, 50),  # 设置隐藏层的节点数\n",
    "    #                   activation='relu',             # 激活函数\n",
    "    #                   solver='adam',                 # 优化算法\n",
    "    #                   max_iter=1000,                 # 最大迭代次数\n",
    "    #                   random_state=42)\n",
    "}"
   ],
   "id": "ee455a5a984b601d",
   "outputs": [],
   "execution_count": 49
  },
  {
   "metadata": {
    "ExecuteTime": {
     "end_time": "2024-10-24T11:12:21.412172Z",
     "start_time": "2024-10-24T11:12:21.109552Z"
    }
   },
   "cell_type": "code",
   "source": [
    "model_save_path = '/private/wuchenpeng/projects/high-molecular/models/'\n",
    "# 测试不同模型\n",
    "for name, model in models.items():\n",
    "    model.fit(X_train_selected, y_train)\n",
    "    y_pred = model.predict(X_test_selected)\n",
    "    mse = mean_squared_error(y_test, y_pred)\n",
    "    r2 = r2_score(y_test, y_pred)\n",
    "    print(f'{name} performance (MSE, R2):', mse, r2)\n",
    "    \n",
    "    # 保存模型\n",
    "    # joblib.dump(model, model_save_path + f'{name}_fenziliang_model.pkl')\n",
    "    # print(f'{name} model saved to {model_save_path + f\"{name}_fenziliang_model.pkl\"}')\n",
    "    # # 创建 R² 图\n",
    "    # plt.figure(figsize=(10, 6))\n",
    "    # plt.scatter(y_test, y_pred, color='blue', label=f'R² = {r2:.2f}', alpha=0.6)\n",
    "    # # 绘制参考线（y_test = y_pred）\n",
    "    # plt.plot([min(y_test), max(y_test)], [min(y_test), max(y_test)], color='red', linewidth=2)\n",
    "    # plt.title(f'{name} R²')\n",
    "    # plt.xlabel('True Values (y_test)')\n",
    "    # plt.ylabel('Predicted Values (y_pred)')\n",
    "    # plt.legend()\n",
    "    # \n",
    "    # # 显示图表\n",
    "    # plt.show()"
   ],
   "id": "48e0733f21d88fad",
   "outputs": [
    {
     "name": "stdout",
     "output_type": "stream",
     "text": [
      "Random Forest performance (MSE, R2): 0.00946265679092979 0.8449296457942502\n",
      "Linear Regression performance (MSE, R2): 0.0508527767572453 0.16664439191637392\n",
      "SVR performance (MSE, R2): 0.014705100858546498 0.7590185030326965\n",
      "Decision Tree performance (MSE, R2): 0.02544215040284242 0.5830638940105666\n",
      "GBT performance (MSE, R2): 0.01093327910743976 0.8208296569050121\n"
     ]
    }
   ],
   "execution_count": 50
  },
  {
   "metadata": {
    "ExecuteTime": {
     "end_time": "2024-09-28T11:00:50.268425Z",
     "start_time": "2024-09-28T10:59:47.588997Z"
    }
   },
   "cell_type": "code",
   "source": [
    "# # 使用网格搜索进行超参数优化\n",
    "# param_grid = {\n",
    "#     'n_estimators': [50, 80, 90, 100],\n",
    "#     'max_depth': [None, 10, 20, 30],\n",
    "#     'min_samples_split': [2, 5, 10],\n",
    "#     'min_samples_leaf': [1, 2, 4]\n",
    "# }\n",
    "# grid_search = GridSearchCV(RandomForestRegressor(random_state=42), param_grid, cv=5)\n",
    "# grid_search.fit(X_train_selected, y_train)\n",
    "# print('Best parameters:', grid_search.best_params_)"
   ],
   "id": "b2b7ab3fd5130eb3",
   "outputs": [
    {
     "name": "stdout",
     "output_type": "stream",
     "text": [
      "Best parameters: {'max_depth': 10, 'min_samples_leaf': 2, 'min_samples_split': 10, 'n_estimators': 50}\n"
     ]
    }
   ],
   "execution_count": 22
  },
  {
   "metadata": {},
   "cell_type": "markdown",
   "source": "",
   "id": "7a473d4d9f8f9ae5"
  },
  {
   "metadata": {
    "ExecuteTime": {
     "end_time": "2024-10-11T13:14:30.914923Z",
     "start_time": "2024-10-11T13:14:30.906559Z"
    }
   },
   "cell_type": "code",
   "source": "",
   "id": "a96a598591407140",
   "outputs": [],
   "execution_count": 43
  },
  {
   "metadata": {
    "ExecuteTime": {
     "end_time": "2024-10-11T13:14:38.150520Z",
     "start_time": "2024-10-11T13:14:38.133929Z"
    }
   },
   "cell_type": "code",
   "source": "",
   "id": "8e6ab1b9c6d640ec",
   "outputs": [
    {
     "data": {
      "text/plain": [
       "(65     0.975\n",
       " 90     0.970\n",
       " 55     0.640\n",
       " 29     0.965\n",
       " 127    0.800\n",
       "        ...  \n",
       " 71     0.980\n",
       " 106    1.000\n",
       " 14     0.980\n",
       " 92     0.950\n",
       " 102    0.471\n",
       " Name: 转化率（%）, Length: 150, dtype: float64,\n",
       " 19     0.9700\n",
       " 45     0.8360\n",
       " 139    0.0000\n",
       " 30     0.7000\n",
       " 67     0.9600\n",
       " 16     0.0000\n",
       " 119    0.9800\n",
       " 173    0.9630\n",
       " 109    1.0000\n",
       " 140    0.9600\n",
       " 24     0.9800\n",
       " 161    0.9520\n",
       " 41     0.0000\n",
       " 118    0.9260\n",
       " 15     0.9750\n",
       " 111    0.8480\n",
       " 113    0.9830\n",
       " 82     0.3750\n",
       " 9      0.9870\n",
       " 114    0.9810\n",
       " 18     0.9300\n",
       " 66     0.0000\n",
       " 60     0.0000\n",
       " 168    0.9630\n",
       " 170    0.9405\n",
       " 150    0.9550\n",
       " 117    0.9430\n",
       " Name: 转化率（%）, dtype: float64)"
      ]
     },
     "execution_count": 44,
     "metadata": {},
     "output_type": "execute_result"
    }
   ],
   "execution_count": 44
  },
  {
   "metadata": {
    "ExecuteTime": {
     "end_time": "2024-10-11T13:17:08.925605Z",
     "start_time": "2024-10-11T13:17:08.778622Z"
    }
   },
   "cell_type": "code",
   "source": "",
   "id": "f574442710ce3b93",
   "outputs": [
    {
     "name": "stdout",
     "output_type": "stream",
     "text": [
      "Model performance (MSE, R2): 0.04560501999629629 0.6761091591106521\n"
     ]
    }
   ],
   "execution_count": 47
  },
  {
   "metadata": {
    "ExecuteTime": {
     "end_time": "2024-10-11T13:18:19.563411Z",
     "start_time": "2024-10-11T13:17:54.615703Z"
    }
   },
   "cell_type": "code",
   "source": "",
   "id": "ef9ce0d674bdc014",
   "outputs": [
    {
     "name": "stdout",
     "output_type": "stream",
     "text": [
      "Random Forest performance (MSE, R2): 0.04846405459259261 0.6558040453402523\n",
      "Linear Regression performance (MSE, R2): 0.08801007218690089 0.3749447694647964\n",
      "SVR performance (MSE, R2): 0.05776163243675619 0.5897718342717146\n",
      "Decision Tree performance (MSE, R2): 0.03946526851851852 0.7197142111235786\n",
      "GBT performance (MSE, R2): 0.052783880360854823 0.6251242648974074\n",
      "XGBR performance (MSE, R2): 0.0410900529308113 0.7081748501145461\n"
     ]
    }
   ],
   "execution_count": 48
  },
  {
   "metadata": {},
   "cell_type": "code",
   "outputs": [],
   "execution_count": null,
   "source": "",
   "id": "305d5a3c7a0f42ae"
  }
 ],
 "metadata": {
  "kernelspec": {
   "display_name": "Python 3",
   "language": "python",
   "name": "python3"
  },
  "language_info": {
   "codemirror_mode": {
    "name": "ipython",
    "version": 2
   },
   "file_extension": ".py",
   "mimetype": "text/x-python",
   "name": "python",
   "nbconvert_exporter": "python",
   "pygments_lexer": "ipython2",
   "version": "2.7.6"
  }
 },
 "nbformat": 4,
 "nbformat_minor": 5
}
